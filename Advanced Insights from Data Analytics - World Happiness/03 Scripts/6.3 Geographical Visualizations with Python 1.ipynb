{
 "cells": [
  {
   "cell_type": "markdown",
   "id": "7d08f6f2",
   "metadata": {},
   "source": [
    "# 6.3 Geographic Visualization"
   ]
  },
  {
   "cell_type": "markdown",
   "id": "2d6b4fee",
   "metadata": {},
   "source": [
    "#this script contains the following: 1. Import data and libraries 2. Data wrangling 3. Data cleaning 4. Plotting a choropleth"
   ]
  },
  {
   "cell_type": "markdown",
   "id": "3b766634",
   "metadata": {},
   "source": [
    "# 1. Import data and libraries"
   ]
  },
  {
   "cell_type": "code",
   "execution_count": null,
   "id": "7f6bf592",
   "metadata": {},
   "outputs": [],
   "source": [
    "import pandas as pd\n",
    "import numpy as np\n",
    "import seaborn as sns\n",
    "import matplotlib\n",
    "import os\n",
    "import folium\n",
    "import json\n",
    "import matplotlib.pyplot as plt"
   ]
  },
  {
   "cell_type": "code",
   "execution_count": null,
   "id": "9996188f",
   "metadata": {},
   "outputs": [],
   "source": [
    "# This command propts matplotlib visuals to appear in the notebook \n",
    "\n",
    "%matplotlib inline"
   ]
  },
  {
   "cell_type": "code",
   "execution_count": null,
   "id": "a5a14a13",
   "metadata": {},
   "outputs": [],
   "source": [
    "# Import \".json\" file for the world countries\n",
    "\n",
    "country_geo = r'C:\\Users\\JocGa\\Achievement 6\\02 Data\\countries.geojson'"
   ]
  },
  {
   "cell_type": "code",
   "execution_count": null,
   "id": "42fb6698",
   "metadata": {},
   "outputs": [],
   "source": [
    "import json\n",
    "\n",
    "f = open(r'C:\\Users\\JocGa\\Achievement 6\\02 Data\\countries.geojson')\n",
    "\n",
    "# returns JSON object as a dictionary\n",
    "data = json.load(f)\n",
    "\n",
    "# Iterating through the json list\n",
    "for feature in data['features']:\n",
    "    properties = feature['properties']\n",
    "    print(properties)"
   ]
  },
  {
   "cell_type": "code",
   "execution_count": null,
   "id": "7be6638a",
   "metadata": {},
   "outputs": [],
   "source": [
    "path = r'C:\\Users\\JocGa\\Achievement 6\\02 Data'"
   ]
  },
  {
   "cell_type": "code",
   "execution_count": null,
   "id": "54b97f1b",
   "metadata": {},
   "outputs": [],
   "source": [
    "# Import the merged data\n",
    "\n",
    "df_merged_data = pd.read_csv(os.path.join(path, 'Merged_Happiness_Report_2015_2019.csv'))"
   ]
  },
  {
   "cell_type": "code",
   "execution_count": null,
   "id": "aa9e9968",
   "metadata": {},
   "outputs": [],
   "source": [
    "df_merged_data.head()"
   ]
  },
  {
   "cell_type": "code",
   "execution_count": null,
   "id": "fe268312",
   "metadata": {},
   "outputs": [],
   "source": [
    "#drop unname columns for df\n",
    "df_merged_data = df_merged_data.drop(columns = ['Unnamed: 0'])"
   ]
  },
  {
   "cell_type": "code",
   "execution_count": null,
   "id": "6654dbb6",
   "metadata": {},
   "outputs": [],
   "source": [
    "df_merged_data.shape"
   ]
  },
  {
   "cell_type": "code",
   "execution_count": null,
   "id": "ba91ba9b",
   "metadata": {},
   "outputs": [],
   "source": [
    "df_merged_data.columns"
   ]
  },
  {
   "cell_type": "markdown",
   "id": "f728d064",
   "metadata": {},
   "source": [
    "# 2. Data Wrangling"
   ]
  },
  {
   "cell_type": "code",
   "execution_count": null,
   "id": "33ab1bd1",
   "metadata": {},
   "outputs": [],
   "source": [
    "# select only the necessary columns and put them in a list called columns\n",
    "columns = [\"Country\", \"Year\", \"Happiness_Rank\", \"Happiness_Score\", \"GDP_per_Capita\", \"Social_Support\", \"Life_Expectancy\"]"
   ]
  },
  {
   "cell_type": "code",
   "execution_count": null,
   "id": "51ac02e2",
   "metadata": {},
   "outputs": [],
   "source": [
    "# create a subset\n",
    "Country_rec = df_merged_data[columns]"
   ]
  },
  {
   "cell_type": "code",
   "execution_count": null,
   "id": "2a08129c",
   "metadata": {},
   "outputs": [],
   "source": [
    "Country_rec.head()"
   ]
  },
  {
   "cell_type": "markdown",
   "id": "52008422",
   "metadata": {},
   "source": [
    "# 3. Conduct consistency checks"
   ]
  },
  {
   "cell_type": "code",
   "execution_count": null,
   "id": "4d97b9b1",
   "metadata": {},
   "outputs": [],
   "source": [
    "#check for missing values\n",
    "Country_rec.isnull().sum()"
   ]
  },
  {
   "cell_type": "markdown",
   "id": "ad0d1fb5",
   "metadata": {},
   "source": [
    "#no missing values!"
   ]
  },
  {
   "cell_type": "code",
   "execution_count": null,
   "id": "96c346db",
   "metadata": {},
   "outputs": [],
   "source": [
    "#check for duplicates checks\n",
    "dups = Country_rec.duplicated()"
   ]
  },
  {
   "cell_type": "code",
   "execution_count": null,
   "id": "adc2a31a",
   "metadata": {},
   "outputs": [],
   "source": [
    "dups.shape"
   ]
  },
  {
   "cell_type": "markdown",
   "id": "d6a7e6c8",
   "metadata": {},
   "source": [
    "#no duplicates!"
   ]
  },
  {
   "cell_type": "code",
   "execution_count": null,
   "id": "25a85a9a",
   "metadata": {},
   "outputs": [],
   "source": [
    "#extreme values checks\n",
    "sns.histplot(Country_rec['Happiness_Score'], bins=25, kde = True)"
   ]
  },
  {
   "cell_type": "markdown",
   "id": "a52e5951",
   "metadata": {},
   "source": [
    "#normal distribution"
   ]
  },
  {
   "cell_type": "code",
   "execution_count": null,
   "id": "0b0f5d3c",
   "metadata": {},
   "outputs": [],
   "source": [
    "#extreme values checks\n",
    "sns.histplot(Country_rec['GDP_per_Capita'], bins=25, kde = True)"
   ]
  },
  {
   "cell_type": "code",
   "execution_count": null,
   "id": "ee812c93",
   "metadata": {},
   "outputs": [],
   "source": [
    "#extreme values checks\n",
    "sns.histplot(Country_rec['Social_Support'], bins=25, kde = True)"
   ]
  },
  {
   "cell_type": "markdown",
   "id": "04e13926",
   "metadata": {},
   "source": [
    "#left-skewed curve "
   ]
  },
  {
   "cell_type": "code",
   "execution_count": null,
   "id": "9e93c9f5",
   "metadata": {},
   "outputs": [],
   "source": [
    "sns.histplot(Country_rec['Life_Expectancy'], bins=25, kde = True)"
   ]
  },
  {
   "cell_type": "markdown",
   "id": "9454da65",
   "metadata": {},
   "source": [
    "#no extreme values for each variables"
   ]
  },
  {
   "cell_type": "markdown",
   "id": "13c6d40d",
   "metadata": {},
   "source": [
    "# Plotting a Choropleth"
   ]
  },
  {
   "cell_type": "code",
   "execution_count": null,
   "id": "94d4b696",
   "metadata": {},
   "outputs": [],
   "source": [
    "# Subset the data for the year 2015\n",
    "df_merged_data_2015 = Country_rec[Country_rec[\"Year\"] == 2015]"
   ]
  },
  {
   "cell_type": "code",
   "execution_count": null,
   "id": "f1cb3c6e",
   "metadata": {},
   "outputs": [],
   "source": [
    "df_merged_data_2015.head()"
   ]
  },
  {
   "cell_type": "code",
   "execution_count": null,
   "id": "287dfdef",
   "metadata": {},
   "outputs": [],
   "source": [
    "for feature in data['features']:\n",
    "    properties = feature['properties']\n",
    "    print(properties)"
   ]
  },
  {
   "cell_type": "code",
   "execution_count": null,
   "id": "fa025c69",
   "metadata": {},
   "outputs": [],
   "source": [
    "# Setup a folium map at a high-level zoom\n",
    "map1 = folium.Map(location=[100, 0], zoom_start=1.5)\n",
    "\n",
    "# Choropleth maps bind Pandas Data Frames and json geometries. This allows us to quickly visualize data combinations\n",
    "folium.Choropleth(\n",
    "    geo_data=country_geo, \n",
    "    data=df_merged_data_2015,\n",
    "    columns=['Country', 'Happiness_Score'],\n",
    "    key_on='feature.properties.ADMIN',\n",
    "    fill_color='YlOrBr',\n",
    "    fill_opacity=0.6,\n",
    "    line_opacity=0.1,\n",
    "    legend_name=\"Happiness Score\",\n",
    "    highlight=True,\n",
    "    nan_fill_color='gray',\n",
    "    reset=True\n",
    ").add_to(map1)\n",
    "\n",
    "folium.LayerControl().add_to(map1)\n",
    "\n",
    "map1"
   ]
  },
  {
   "cell_type": "markdown",
   "id": "c6769c7c",
   "metadata": {},
   "source": [
    "#observation, in 2015, the continent North America has the coutries with the higest score, as well, Brazil, Australia, New Zealand, Norway, Sweden, Finland,United Kigdom, and Ireland, and Netherlands. the lowest score, countries are in some African countries and some in the South Asia."
   ]
  },
  {
   "cell_type": "code",
   "execution_count": null,
   "id": "0b0ebc29",
   "metadata": {},
   "outputs": [],
   "source": [
    "# Subset the data for the year 2016\n",
    "df_merged_data_2016 = Country_rec[Country_rec[\"Year\"] == 2016]"
   ]
  },
  {
   "cell_type": "code",
   "execution_count": null,
   "id": "34d6f38a",
   "metadata": {},
   "outputs": [],
   "source": [
    "df_merged_data_2016.head()"
   ]
  },
  {
   "cell_type": "code",
   "execution_count": null,
   "id": "c203c500",
   "metadata": {},
   "outputs": [],
   "source": [
    "# Setup a folium map at a high-level zoom\n",
    "map1 = folium.Map(location=[100, 0], zoom_start=1.5)\n",
    "\n",
    "# Choropleth maps bind Pandas Data Frames and json geometries. This allows us to quickly visualize data combinations\n",
    "folium.Choropleth(\n",
    "    geo_data=country_geo, \n",
    "    data=df_merged_data_2016,\n",
    "    columns=['Country', 'Happiness_Score'],\n",
    "    key_on='feature.properties.ADMIN',\n",
    "    fill_color='YlOrBr',\n",
    "    fill_opacity=0.6,\n",
    "    line_opacity=0.1,\n",
    "    legend_name=\"Happiness Score\",\n",
    "    highlight=True,\n",
    "    nan_fill_color='gray',\n",
    "    reset=True\n",
    ").add_to(map1)\n",
    "\n",
    "folium.LayerControl().add_to(map1)\n",
    "\n",
    "map1"
   ]
  },
  {
   "cell_type": "markdown",
   "id": "cff35607",
   "metadata": {},
   "source": [
    "#observation, in 2016, the same countries scored high in the happiness score, while some of Asia countries move up on the score. "
   ]
  },
  {
   "cell_type": "code",
   "execution_count": null,
   "id": "b1976665",
   "metadata": {},
   "outputs": [],
   "source": [
    "# Subset the data for the year 2017\n",
    "df_merged_data_2017 = Country_rec[Country_rec[\"Year\"] == 2017]"
   ]
  },
  {
   "cell_type": "code",
   "execution_count": null,
   "id": "6f7feb38",
   "metadata": {},
   "outputs": [],
   "source": [
    "# Setup a folium map at a high-level zoom\n",
    "map1 = folium.Map(location=[100, 0], zoom_start=1.5)\n",
    "\n",
    "# Choropleth maps bind Pandas Data Frames and json geometries. This allows us to quickly visualize data combinations\n",
    "folium.Choropleth(\n",
    "    geo_data=country_geo, \n",
    "    data=df_merged_data_2017,\n",
    "    columns=['Country', 'Happiness_Score'],\n",
    "    key_on='feature.properties.ADMIN',\n",
    "    fill_color='YlOrBr',\n",
    "    fill_opacity=0.6,\n",
    "    line_opacity=0.1,\n",
    "    legend_name=\"Happiness Score\",\n",
    "    highlight=True,\n",
    "    nan_fill_color='gray',\n",
    "    reset=True\n",
    ").add_to(map1)\n",
    "\n",
    "folium.LayerControl().add_to(map1)\n",
    "\n",
    "map1"
   ]
  },
  {
   "cell_type": "markdown",
   "id": "9df954cf",
   "metadata": {},
   "source": [
    "#observation, in 2017, Brazil and Mexico moved down on the happiness score scale; while Canada, USA, and Austraila, New Zealand, Germany, Norway, Sweden, and Ireland stayed up. "
   ]
  },
  {
   "cell_type": "code",
   "execution_count": null,
   "id": "fdc43797",
   "metadata": {},
   "outputs": [],
   "source": [
    "# Subset the data for the year 2018\n",
    "df_merged_data_2018 = Country_rec[Country_rec[\"Year\"] == 2018]"
   ]
  },
  {
   "cell_type": "code",
   "execution_count": null,
   "id": "c6476b6c",
   "metadata": {},
   "outputs": [],
   "source": [
    "# Setup a folium map at a high-level zoom\n",
    "map1 = folium.Map(location=[100, 0], zoom_start=1.5)\n",
    "\n",
    "# Choropleth maps bind Pandas Data Frames and json geometries. This allows us to quickly visualize data combinations\n",
    "folium.Choropleth(\n",
    "    geo_data=country_geo, \n",
    "    data=df_merged_data_2018,\n",
    "    columns=['Country', 'Happiness_Score'],\n",
    "    key_on='feature.properties.ADMIN',\n",
    "    fill_color='YlOrBr',\n",
    "    fill_opacity=0.6,\n",
    "    line_opacity=0.1,\n",
    "    legend_name=\"Happiness Score\",\n",
    "    highlight=True,\n",
    "    nan_fill_color='gray',\n",
    "    reset=True\n",
    ").add_to(map1)\n",
    "\n",
    "folium.LayerControl().add_to(map1)\n",
    "\n",
    "map1"
   ]
  },
  {
   "cell_type": "markdown",
   "id": "769d4f95",
   "metadata": {},
   "source": [
    "#observation, in 2018, Asia score level went down compare to past year. the high score countires are the same for the past years. "
   ]
  },
  {
   "cell_type": "code",
   "execution_count": null,
   "id": "5c33af76",
   "metadata": {},
   "outputs": [],
   "source": [
    "# Subset the data for the year 2019\n",
    "df_merged_data_2019 = Country_rec[Country_rec[\"Year\"] == 2019]"
   ]
  },
  {
   "cell_type": "code",
   "execution_count": null,
   "id": "4d9ce97b",
   "metadata": {},
   "outputs": [],
   "source": [
    "df_merged_data_2019.head()"
   ]
  },
  {
   "cell_type": "code",
   "execution_count": null,
   "id": "7f43c5e5",
   "metadata": {},
   "outputs": [],
   "source": [
    "# Setup a folium map at a high-level zoom\n",
    "map1 = folium.Map(location=[100, 0], zoom_start=1.5)\n",
    "\n",
    "# Choropleth maps bind Pandas Data Frames and json geometries. This allows us to quickly visualize data combinations\n",
    "folium.Choropleth(\n",
    "    geo_data=country_geo, \n",
    "    data=df_merged_data_2019,\n",
    "    columns=['Country', 'Happiness_Score'],\n",
    "    key_on='feature.properties.ADMIN',\n",
    "    fill_color='YlOrBr',\n",
    "    fill_opacity=0.6,\n",
    "    line_opacity=0.1,\n",
    "    legend_name=\"Happiness Score\",\n",
    "    highlight=True,\n",
    "    nan_fill_color='gray',\n",
    "    reset=True\n",
    ").add_to(map1)\n",
    "\n",
    "folium.LayerControl().add_to(map1)\n",
    "\n",
    "map1"
   ]
  },
  {
   "cell_type": "markdown",
   "id": "31872fa2",
   "metadata": {},
   "source": [
    "#observation, in 2019, we see that USA happiness score went down. "
   ]
  },
  {
   "cell_type": "markdown",
   "id": "5edb446f",
   "metadata": {},
   "source": [
    "### Country vs GDP_per_Capita"
   ]
  },
  {
   "cell_type": "code",
   "execution_count": null,
   "id": "6979cc06",
   "metadata": {},
   "outputs": [],
   "source": [
    "# Setup a folium map at a high-level zoom\n",
    "map = folium.Map(location=[100, 0], zoom_start=1.5)\n",
    "\n",
    "# Choropleth maps bind Pandas Data Frames and json geometries. This allows us to quickly visualize data combinations\n",
    "folium.Choropleth(\n",
    "    geo_data=country_geo, \n",
    "    data=df_merged_data_2015,\n",
    "    columns=['Country', 'GDP_per_Capita'],\n",
    "    key_on='feature.properties.ADMIN',  # Update the key_on parameter based on the correct key path\n",
    "    fill_color='YlOrBr',\n",
    "    fill_opacity=0.6,\n",
    "    line_opacity=0.1,\n",
    "    legend_name=\"GDP_per_Capita\",\n",
    "    highlight=True,  # Add this line to enable highlighting for repeated countries\n",
    "    nan_fill_color='gray',  # Add this line to set a color for missing values\n",
    "    reset=True  # Add this line to reset the map between frames\n",
    ").add_to(map)\n",
    "\n",
    "folium.LayerControl().add_to(map)\n",
    "\n",
    "map"
   ]
  },
  {
   "cell_type": "markdown",
   "id": "777e12f6",
   "metadata": {},
   "source": [
    "#observation, in 2015, the country with high GDP per capita was Norway follow by USA, Canada, Australia, and some of Europe and some of Asia."
   ]
  },
  {
   "cell_type": "code",
   "execution_count": null,
   "id": "4bb92aac",
   "metadata": {},
   "outputs": [],
   "source": [
    "# Setup a folium map at a high-level zoom\n",
    "map = folium.Map(location=[100, 0], zoom_start=1.5)\n",
    "\n",
    "# Choropleth maps bind Pandas Data Frames and json geometries. This allows us to quickly visualize data combinations\n",
    "folium.Choropleth(\n",
    "    geo_data=country_geo, \n",
    "    data=df_merged_data_2016,\n",
    "    columns=['Country', 'GDP_per_Capita'],\n",
    "    key_on='feature.properties.ADMIN',  # Update the key_on parameter based on the correct key path\n",
    "    fill_color='YlOrBr',\n",
    "    fill_opacity=0.6,\n",
    "    line_opacity=0.1,\n",
    "    legend_name=\"GDP_per_Capita\",\n",
    "    highlight=True,  # Add this line to enable highlighting for repeated countries\n",
    "    nan_fill_color='gray',  # Add this line to set a color for missing values\n",
    "    reset=True  # Add this line to reset the map between frames\n",
    ").add_to(map)\n",
    "\n",
    "folium.LayerControl().add_to(map)\n",
    "\n",
    "map"
   ]
  },
  {
   "cell_type": "markdown",
   "id": "adad7198",
   "metadata": {},
   "source": [
    "#observation, in 2016, the country with high GDP per capita was Norway follow by USA, Canada, Australia, and some of Europe and some of Asia."
   ]
  },
  {
   "cell_type": "code",
   "execution_count": null,
   "id": "5efb1331",
   "metadata": {},
   "outputs": [],
   "source": [
    "# Setup a folium map at a high-level zoom\n",
    "map = folium.Map(location=[100, 0], zoom_start=1.5)\n",
    "\n",
    "# Choropleth maps bind Pandas Data Frames and json geometries. This allows us to quickly visualize data combinations\n",
    "folium.Choropleth(\n",
    "    geo_data=country_geo, \n",
    "    data=df_merged_data_2018,\n",
    "    columns=['Country', 'GDP_per_Capita'],\n",
    "    key_on='feature.properties.ADMIN',  # Update the key_on parameter based on the correct key path\n",
    "    fill_color='YlOrBr',\n",
    "    fill_opacity=0.6,\n",
    "    line_opacity=0.1,\n",
    "    legend_name=\"GDP_per_Capita\",\n",
    "    highlight=True,  # Add this line to enable highlighting for repeated countries\n",
    "    nan_fill_color='gray',  # Add this line to set a color for missing values\n",
    "    reset=True  # Add this line to reset the map between frames\n",
    ").add_to(map)\n",
    "\n",
    "folium.LayerControl().add_to(map)\n",
    "\n",
    "map"
   ]
  },
  {
   "cell_type": "markdown",
   "id": "dbebdaae",
   "metadata": {},
   "source": [
    "#observation, in 2018, the USA and Saudi Arabia along with Norway went up on gpd_per_capita "
   ]
  },
  {
   "cell_type": "code",
   "execution_count": null,
   "id": "80446b10",
   "metadata": {},
   "outputs": [],
   "source": [
    "# Setup a folium map at a high-level zoom\n",
    "map = folium.Map(location=[100, 0], zoom_start=1.5)\n",
    "\n",
    "# Choropleth maps bind Pandas Data Frames and json geometries. This allows us to quickly visualize data combinations\n",
    "folium.Choropleth(\n",
    "    geo_data=country_geo, \n",
    "    data=df_merged_data_2019,\n",
    "    columns=['Country', 'GDP_per_Capita'],\n",
    "    key_on='feature.properties.ADMIN',  # Update the key_on parameter based on the correct key path\n",
    "    fill_color='YlOrBr',\n",
    "    fill_opacity=0.6,\n",
    "    line_opacity=0.1,\n",
    "    legend_name=\"GDP_per_Capita\",\n",
    "    highlight=True,  # Add this line to enable highlighting for repeated countries\n",
    "    nan_fill_color='gray',  # Add this line to set a color for missing values\n",
    "    reset=True  # Add this line to reset the map between frames\n",
    ").add_to(map)\n",
    "\n",
    "folium.LayerControl().add_to(map)\n",
    "\n",
    "map"
   ]
  },
  {
   "cell_type": "markdown",
   "id": "1489288b",
   "metadata": {},
   "source": [
    "#observation, in 2019, we see the USA moving up along with Norway with high GDP_per_Capita"
   ]
  },
  {
   "cell_type": "markdown",
   "id": "45c4f3c8",
   "metadata": {},
   "source": [
    "### Country vs Life Expectancy"
   ]
  },
  {
   "cell_type": "code",
   "execution_count": null,
   "id": "bdafa147",
   "metadata": {},
   "outputs": [],
   "source": [
    "# Setup a folium map at a high-level zoom\n",
    "map = folium.Map(location=[100, 0], zoom_start=1.5)\n",
    "\n",
    "# Choropleth maps bind Pandas Data Frames and json geometries. This allows us to quickly visualize data combinations\n",
    "folium.Choropleth(\n",
    "    geo_data=country_geo, \n",
    "    data=df_merged_data_2015,\n",
    "    columns=['Country', 'Life_Expectancy'],\n",
    "    key_on='feature.properties.ADMIN',  # Update the key_on parameter based on the correct key path\n",
    "    fill_color='YlOrBr',\n",
    "    fill_opacity=0.6,\n",
    "    line_opacity=0.1,\n",
    "    legend_name=\"Life Expectancy\",\n",
    "    highlight=True,  # Add this line to enable highlighting for repeated countries\n",
    "    nan_fill_color='gray',  # Add this line to set a color for missing values\n",
    "    reset=True  # Add this line to reset the map between frames\n",
    ").add_to(map)\n",
    "\n",
    "folium.LayerControl().add_to(map)\n",
    "\n",
    "map"
   ]
  },
  {
   "cell_type": "markdown",
   "id": "4520e2b4",
   "metadata": {},
   "source": [
    "#observation, in 2015, countries with high life expectancy are Canada, USA, Australia, and some of Europe."
   ]
  },
  {
   "cell_type": "code",
   "execution_count": null,
   "id": "286d5531",
   "metadata": {},
   "outputs": [],
   "source": [
    "# Setup a folium map at a high-level zoom\n",
    "map = folium.Map(location=[100, 0], zoom_start=1.5)\n",
    "\n",
    "# Choropleth maps bind Pandas Data Frames and json geometries. This allows us to quickly visualize data combinations\n",
    "folium.Choropleth(\n",
    "    geo_data=country_geo, \n",
    "    data=df_merged_data_2016,\n",
    "    columns=['Country', 'Life_Expectancy'],\n",
    "    key_on='feature.properties.ADMIN',  # Update the key_on parameter based on the correct key path\n",
    "    fill_color='YlOrBr',\n",
    "    fill_opacity=0.6,\n",
    "    line_opacity=0.1,\n",
    "    legend_name=\"Life Expectancy\",\n",
    "    highlight=True,  # Add this line to enable highlighting for repeated countries\n",
    "    nan_fill_color='gray',  # Add this line to set a color for missing values\n",
    "    reset=True  # Add this line to reset the map between frames\n",
    ").add_to(map)\n",
    "\n",
    "folium.LayerControl().add_to(map)\n",
    "\n",
    "map"
   ]
  },
  {
   "cell_type": "markdown",
   "id": "b3f9fd62",
   "metadata": {},
   "source": [
    "#observation, in 2016, the USA life expenctancy went down as well some of South America"
   ]
  },
  {
   "cell_type": "code",
   "execution_count": null,
   "id": "e705739a",
   "metadata": {},
   "outputs": [],
   "source": [
    "# Setup a folium map at a high-level zoom\n",
    "map = folium.Map(location=[100, 0], zoom_start=1.5)\n",
    "\n",
    "# Choropleth maps bind Pandas Data Frames and json geometries. This allows us to quickly visualize data combinations\n",
    "folium.Choropleth(\n",
    "    geo_data=country_geo, \n",
    "    data=df_merged_data_2018,\n",
    "    columns=['Country', 'Life_Expectancy'],\n",
    "    key_on='feature.properties.ADMIN',  # Update the key_on parameter based on the correct key path\n",
    "    fill_color='YlOrBr',\n",
    "    fill_opacity=0.6,\n",
    "    line_opacity=0.1,\n",
    "    legend_name=\"Life Expectancy\",\n",
    "    highlight=True,  # Add this line to enable highlighting for repeated countries\n",
    "    nan_fill_color='gray',  # Add this line to set a color for missing values\n",
    "    reset=True  # Add this line to reset the map between frames\n",
    ").add_to(map)\n",
    "\n",
    "folium.LayerControl().add_to(map)\n",
    "\n",
    "map"
   ]
  },
  {
   "cell_type": "markdown",
   "id": "dceca596",
   "metadata": {},
   "source": [
    "#observation, in 2018, canada, Australia, New Zealand and some of Europe had high life expenctancy"
   ]
  },
  {
   "cell_type": "code",
   "execution_count": null,
   "id": "5d326b43",
   "metadata": {},
   "outputs": [],
   "source": [
    "# Setup a folium map at a high-level zoom\n",
    "map = folium.Map(location=[100, 0], zoom_start=1.5)\n",
    "\n",
    "# Choropleth maps bind Pandas Data Frames and json geometries. This allows us to quickly visualize data combinations\n",
    "folium.Choropleth(\n",
    "    geo_data=country_geo, \n",
    "    data=df_merged_data_2019,\n",
    "    columns=['Country', 'Life_Expectancy'],\n",
    "    key_on='feature.properties.ADMIN',  # Update the key_on parameter based on the correct key path\n",
    "    fill_color='YlOrBr',\n",
    "    fill_opacity=0.6,\n",
    "    line_opacity=0.1,\n",
    "    legend_name=\"Life Expectancy\",\n",
    "    highlight=True,  # Add this line to enable highlighting for repeated countries\n",
    "    nan_fill_color='gray',  # Add this line to set a color for missing values\n",
    "    reset=True  # Add this line to reset the map between frames\n",
    ").add_to(map)\n",
    "\n",
    "folium.LayerControl().add_to(map)\n",
    "\n",
    "map"
   ]
  },
  {
   "cell_type": "markdown",
   "id": "6522a03b",
   "metadata": {},
   "source": [
    "#observation, in 2019, canada, Australia, New Zealand and some of Europe had high life expenctancy. while South America scale moves up. "
   ]
  },
  {
   "cell_type": "markdown",
   "id": "ddc00305",
   "metadata": {},
   "source": [
    "# Save Maps"
   ]
  },
  {
   "cell_type": "code",
   "execution_count": null,
   "id": "c3f19ec0",
   "metadata": {},
   "outputs": [],
   "source": [
    "map.save('plot_data.html')"
   ]
  },
  {
   "cell_type": "code",
   "execution_count": null,
   "id": "cd19aab0",
   "metadata": {},
   "outputs": [],
   "source": [
    "map1.save('plot_data.html')"
   ]
  },
  {
   "cell_type": "markdown",
   "id": "347ed7d9",
   "metadata": {},
   "source": [
    "# Discuss for Results"
   ]
  },
  {
   "cell_type": "markdown",
   "id": "8318f40a",
   "metadata": {},
   "source": [
    "#Does the analysis answer any of your existing research questions?\n",
    "Q:How does the distribution of Happiness Scores vary across different continents or regions?\n",
    "A:Countries with the highest happiness score were usually Canada, USA, Australia, New Zealand, Norway, Sweden, Finland, Germany, United Kigdom, Ireland, and Netherlands. the lowest score, countries are in some African countries and some in the South Asia. Over the years, until 2019, the USA drop on the happiness score. \n",
    "\n",
    "Q:How does the distribution of GDP per capita vary across different continents or regions?\n",
    "A:from 2015-2017 we see the country with high GDP per capita was Norway follow by USA, Canada, Australia, and some of Europe and some of Asia. in 2018-2019 we see USA and Norway high in gdp per capita.\n",
    "\n",
    "Q:How does the distribution of social support vary across different continents or regions?\n",
    "A:from 2015-2019 countries with high social support are still Canada, USA, South America, Australia, Europe and Asia stayed the same. \n",
    "\n",
    "Q:How does the distribution of high life expectancy vary across different continents or regions?\n",
    "A:In 2015, countries with high life expectancy are Canada, USA, Australia, and some of Europe. the following years, we see USA life expectancy droping.\n",
    "\n",
    "#Does the analysis lead you to any new research questions?\n",
    "How does GDP per capita, social support, and life expectancy vary over the years for these countries? we do see gpd per catita change over the years, not much change in social support, and slight change in life expectancy for top countries like USA, Canada, Australia, New Zealand, and some of Europe countries. "
   ]
  }
 ],
 "metadata": {
  "kernelspec": {
   "display_name": "Python 3 (ipykernel)",
   "language": "python",
   "name": "python3"
  },
  "language_info": {
   "codemirror_mode": {
    "name": "ipython",
    "version": 3
   },
   "file_extension": ".py",
   "mimetype": "text/x-python",
   "name": "python",
   "nbconvert_exporter": "python",
   "pygments_lexer": "ipython3",
   "version": "3.9.13"
  }
 },
 "nbformat": 4,
 "nbformat_minor": 5
}
